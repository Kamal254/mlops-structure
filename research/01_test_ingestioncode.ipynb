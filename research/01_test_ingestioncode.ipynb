{
 "cells": [
  {
   "cell_type": "code",
   "execution_count": 27,
   "metadata": {},
   "outputs": [],
   "source": [
    "from dataclasses import dataclass\n",
    "from pathlib import Path"
   ]
  },
  {
   "cell_type": "code",
   "execution_count": 28,
   "metadata": {},
   "outputs": [],
   "source": [
    "# dataclass dacorator is used to avoid writing __init__ constructor\n",
    "# in the class and eliminate use of self.attribute\n",
    "\n",
    "@dataclass(frozen=True)\n",
    "class DataIngestionConfig:\n",
    "    root_dir : Path\n",
    "    source_URL : str\n",
    "    download_folder_path : Path\n",
    "    local_data_file : Path\n",
    "    processed_data : Path\n",
    "\n",
    "@dataclass(frozen=True)\n",
    "class DatabaseCredentials:\n",
    "    db_user : str\n",
    "    db_password : str\n",
    "    db_host : str\n",
    "    db_port : str\n",
    "    db_name : str\n"
   ]
  },
  {
   "cell_type": "code",
   "execution_count": 32,
   "metadata": {},
   "outputs": [],
   "source": [
    "from regression.constants import constant\n",
    "from regression.utils.common_func import read_yaml, create_dir"
   ]
  },
  {
   "cell_type": "code",
   "execution_count": 30,
   "metadata": {},
   "outputs": [
    {
     "ename": "AttributeError",
     "evalue": "module 'regression.constants.constant' has no attribute 'SECRET_FILE_PATH'",
     "output_type": "error",
     "traceback": [
      "\u001b[1;31m---------------------------------------------------------------------------\u001b[0m",
      "\u001b[1;31mAttributeError\u001b[0m                            Traceback (most recent call last)",
      "Cell \u001b[1;32mIn[30], line 1\u001b[0m\n\u001b[1;32m----> 1\u001b[0m \u001b[38;5;28;01mclass\u001b[39;00m \u001b[38;5;21;01mConfigurationManager\u001b[39;00m:\n\u001b[0;32m      2\u001b[0m     \u001b[38;5;28;01mdef\u001b[39;00m \u001b[38;5;21m__init__\u001b[39m(\n\u001b[0;32m      3\u001b[0m         \u001b[38;5;28mself\u001b[39m,\n\u001b[0;32m      4\u001b[0m         config_filepath \u001b[38;5;241m=\u001b[39m constant\u001b[38;5;241m.\u001b[39mCONFIG_FILE_PATH,\n\u001b[0;32m      5\u001b[0m         param_filepath \u001b[38;5;241m=\u001b[39m constant\u001b[38;5;241m.\u001b[39mPARAMS_FILE_PATH,\n\u001b[0;32m      6\u001b[0m         secret_filepath \u001b[38;5;241m=\u001b[39m constant\u001b[38;5;241m.\u001b[39mSECRET_FILE_PATH\n\u001b[0;32m      7\u001b[0m         ):\n\u001b[0;32m     10\u001b[0m         \u001b[38;5;28mself\u001b[39m\u001b[38;5;241m.\u001b[39mconfig \u001b[38;5;241m=\u001b[39m read_yaml(config_filepath)\n",
      "Cell \u001b[1;32mIn[30], line 6\u001b[0m, in \u001b[0;36mConfigurationManager\u001b[1;34m()\u001b[0m\n\u001b[0;32m      1\u001b[0m \u001b[38;5;28;01mclass\u001b[39;00m \u001b[38;5;21;01mConfigurationManager\u001b[39;00m:\n\u001b[0;32m      2\u001b[0m     \u001b[38;5;28;01mdef\u001b[39;00m \u001b[38;5;21m__init__\u001b[39m(\n\u001b[0;32m      3\u001b[0m         \u001b[38;5;28mself\u001b[39m,\n\u001b[0;32m      4\u001b[0m         config_filepath \u001b[38;5;241m=\u001b[39m constant\u001b[38;5;241m.\u001b[39mCONFIG_FILE_PATH,\n\u001b[0;32m      5\u001b[0m         param_filepath \u001b[38;5;241m=\u001b[39m constant\u001b[38;5;241m.\u001b[39mPARAMS_FILE_PATH,\n\u001b[1;32m----> 6\u001b[0m         secret_filepath \u001b[38;5;241m=\u001b[39m \u001b[43mconstant\u001b[49m\u001b[38;5;241;43m.\u001b[39;49m\u001b[43mSECRET_FILE_PATH\u001b[49m\n\u001b[0;32m      7\u001b[0m         ):\n\u001b[0;32m     10\u001b[0m         \u001b[38;5;28mself\u001b[39m\u001b[38;5;241m.\u001b[39mconfig \u001b[38;5;241m=\u001b[39m read_yaml(config_filepath)\n\u001b[0;32m     11\u001b[0m         \u001b[38;5;28mself\u001b[39m\u001b[38;5;241m.\u001b[39mparams \u001b[38;5;241m=\u001b[39m read_yaml(param_filepath)\n",
      "\u001b[1;31mAttributeError\u001b[0m: module 'regression.constants.constant' has no attribute 'SECRET_FILE_PATH'"
     ]
    }
   ],
   "source": [
    "class ConfigurationManager:\n",
    "    def __init__(\n",
    "        self,\n",
    "        config_filepath = constant.CONFIG_FILE_PATH,\n",
    "        param_filepath = constant.PARAMS_FILE_PATH,\n",
    "        secret_filepath = constant.SECRET_FILE_PATH\n",
    "        ):\n",
    "\n",
    "\n",
    "        self.config = read_yaml(config_filepath)\n",
    "        self.params = read_yaml(param_filepath)\n",
    "        self.secret = read_yaml(secret_filepath)\n",
    "\n",
    "        create_dir([self.config.root])\n",
    "\n",
    "    def get_data_ingestion_config(self) -> DataIngestionConfig:\n",
    "        config = self.config.data_paths\n",
    "\n",
    "        create_dir([config.root_dir])\n",
    "\n",
    "        data_ingestion_config = DataIngestionConfig(\n",
    "            root_dir=config.root_dir,\n",
    "            source_URL=config.source_URL,\n",
    "            download_folder_path=config.download_folder_path,\n",
    "            local_data_file=config.local_data_file,\n",
    "            processed_data=config.processed_data\n",
    "\n",
    "        )\n",
    "\n",
    "        return data_ingestion_config\n",
    "    \n",
    "    def get_database_credentials(self) -> DatabaseCredentials:\n",
    "        cred_config = self.secret.database_cred\n",
    "\n",
    "        credentials_data = DatabaseCredentials(\n",
    "            db_user= cred_config.db_user,\n",
    "            db_password=cred_config.db_password,\n",
    "            db_host=cred_config.db_host,\n",
    "            db_port=cred_config.db_port,\n",
    "            db_name=cred_config.db_name\n",
    "        )\n",
    "\n",
    "        return credentials_data\n"
   ]
  },
  {
   "cell_type": "code",
   "execution_count": 20,
   "metadata": {},
   "outputs": [],
   "source": [
    "import os\n",
    "from regression import logger\n",
    "import gdown\n",
    "import pandas as pd\n",
    "import numpy as np\n",
    "import matplotlib.pyplot as plt\n",
    "from sqlalchemy import create_engine"
   ]
  },
  {
   "cell_type": "code",
   "execution_count": null,
   "metadata": {},
   "outputs": [],
   "source": [
    "class DataIngestion:\n",
    "    def __init__(self, config:DataIngestionConfig, db_config: DatabaseCredentials):\n",
    "        self.config = config\n",
    "        self.db_config = db_config\n",
    "\n",
    "    def download_data(self) -> str:\n",
    "        try:\n",
    "            dataset_url = self.config.source_URL\n",
    "            download_file = self.config.local_data_file\n",
    "            os.makedirs(self.config.root_dir, exist_ok = True)\n",
    "            logger.info(f\"Downloading Data from {dataset_url} into {download_file}\")\n",
    "\n",
    "            file_id = dataset_url.split(\"/\")[-2]\n",
    "            prefix = 'https://drive.google.com/uc?/export=download&id='\n",
    "            gdown.download(prefix+file_id, download_file)\n",
    "\n",
    "            logger.info(f'Downloaded data from {dataset_url} into file {download_file}')\n",
    "\n",
    "        except Exception as e:\n",
    "            raise e\n",
    "        \n",
    "    def preprocess_data(self, rawdata_filepath) ->str:\n",
    "        #preprocessing of data will complete by this function\n",
    "        #Save the preprocessed data into local database\n",
    "        processed_data_filepath = self.config.processed_data\n",
    "        dataframe = pd.read_csv(rawdata_filepath)\n",
    "        logger.info(\"Dataset Loaded in Dataframe\")\n",
    "        \"\"\"\n",
    "                Do the Preprocessing Steps Here       \n",
    "        \n",
    "        \"\"\"\n",
    "\n",
    "        logger.info(f\"Preprocessing Completed\")\n",
    "        dataframe.to_csv(processed_data_filepath, index=False)\n",
    "        logger.info(f'Processed Data Saved into file {processed_data_filepath}') \n",
    "\n",
    "        connection_string = f'postgresql+psycopg2://{self.db_config.db_user}:{self.db_config.db_password}@{self.db_config.db_host}:{self.db_config.db_port}/{self.db_config.db_name}'\n",
    "        \n",
    "        logger.info(f'connecting to database at {connection_string}')\n",
    "\n",
    "        try:\n",
    "            engine = create_engine(connection_string)\n",
    "        except Exception as e:\n",
    "            raise e\n",
    "        \n",
    "        logger.info(\"connection made to local pgadmin server\")\n",
    "\n",
    "        preprocessed_data = pd.read_csv(processed_data_filepath)\n",
    "        table_name = 'whine_quality'\n",
    "        preprocessed_data.to_sql(table_name, engine, if_exists='replace', index=False)\n",
    "        logger.info(\"Successfully created table into Local Database\")\n",
    "\n",
    "    def transform_data(self) -> str:\n",
    "        rawdata_filepath = self.config.local_data_file\n",
    "        dataframe = pd.read_csv(rawdata_filepath)\n",
    "        if(dataframe):\n",
    "            logger.info(f'preprocessing data ...')\n",
    "            self.preprocess_data(rawdata_filepath)\n",
    "        else:\n",
    "            logger.info(f'No file present in the {rawdata_filepath}')\n",
    "\n",
    "\n",
    "\n",
    "        "
   ]
  },
  {
   "cell_type": "code",
   "execution_count": null,
   "metadata": {},
   "outputs": [],
   "source": []
  },
  {
   "cell_type": "code",
   "execution_count": null,
   "metadata": {},
   "outputs": [],
   "source": []
  }
 ],
 "metadata": {
  "kernelspec": {
   "display_name": ".venv",
   "language": "python",
   "name": "python3"
  },
  "language_info": {
   "codemirror_mode": {
    "name": "ipython",
    "version": 3
   },
   "file_extension": ".py",
   "mimetype": "text/x-python",
   "name": "python",
   "nbconvert_exporter": "python",
   "pygments_lexer": "ipython3",
   "version": "3.9.13"
  }
 },
 "nbformat": 4,
 "nbformat_minor": 2
}
