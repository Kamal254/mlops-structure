{
 "cells": [
  {
   "cell_type": "code",
   "execution_count": 1,
   "metadata": {},
   "outputs": [],
   "source": [
    "from dataclasses import dataclass\n",
    "from pathlib import Path"
   ]
  },
  {
   "cell_type": "code",
   "execution_count": 2,
   "metadata": {},
   "outputs": [],
   "source": [
    "# dataclass dacorator is used to avoid writing __init__ constructor\n",
    "# in the class and eliminate use of self.attribute\n",
    "\n",
    "@dataclass(frozen=True)\n",
    "class DataIngestionConfig:\n",
    "    root_dir : Path\n",
    "    source_URL : str\n",
    "    download_folder_path : Path\n",
    "    local_data_file : Path\n",
    "    processed_data : Path\n",
    "\n",
    "@dataclass(frozen=True)\n",
    "class DatabaseCredentials:\n",
    "    db_user : str\n",
    "    db_password : str\n",
    "    db_host : str\n",
    "    db_port : str\n",
    "    db_name : str\n"
   ]
  },
  {
   "cell_type": "code",
   "execution_count": 3,
   "metadata": {},
   "outputs": [],
   "source": [
    "from regression.constants import constant\n",
    "from regression.utils.common_func import read_yaml, create_dir"
   ]
  },
  {
   "cell_type": "code",
   "execution_count": 4,
   "metadata": {},
   "outputs": [],
   "source": [
    "class ConfigurationManager:\n",
    "    def __init__(\n",
    "        self,\n",
    "        config_filepath = constant.CONFIG_FILE_PATH,\n",
    "        param_filepath = constant.PARAMS_FILE_PATH,\n",
    "        secret_filepath = constant.SECRET_FILE_PATH):\n",
    "\n",
    "        self.config = read_yaml(config_filepath)\n",
    "        self.params = read_yaml(param_filepath)\n",
    "        self.secret = read_yaml(secret_filepath)\n",
    "\n",
    "        create_dir([self.config.root])\n",
    "\n",
    "    def get_data_ingestion_config(self) -> DataIngestionConfig:\n",
    "        config = self.config.data_paths\n",
    "\n",
    "        create_dir([config.root_dir])\n",
    "\n",
    "        data_ingestion_config = DataIngestionConfig(\n",
    "            root_dir=config.root_dir,\n",
    "            source_URL=config.source_URL,\n",
    "            download_folder_path=config.download_folder_path,\n",
    "            local_data_file=config.local_data_file,\n",
    "            processed_data=config.processed_data\n",
    "\n",
    "        )\n",
    "\n",
    "        return data_ingestion_config\n",
    "    \n",
    "    def get_database_credentials(self) -> DatabaseCredentials:\n",
    "        cred_config = self.secret.database_cred\n",
    "\n",
    "        credentials_data = DatabaseCredentials(\n",
    "            db_user= cred_config.db_user,\n",
    "            db_password=cred_config.db_password,\n",
    "            db_host=cred_config.db_host,\n",
    "            db_port=cred_config.db_port,\n",
    "            db_name=cred_config.db_name\n",
    "        )\n",
    "\n",
    "        return credentials_data\n"
   ]
  },
  {
   "cell_type": "code",
   "execution_count": 5,
   "metadata": {},
   "outputs": [],
   "source": [
    "import os\n",
    "from regression import logger\n",
    "import gdown\n",
    "import pandas as pd\n",
    "import numpy as np\n",
    "import matplotlib.pyplot as plt\n",
    "from sqlalchemy import create_engine"
   ]
  },
  {
   "cell_type": "code",
   "execution_count": 6,
   "metadata": {},
   "outputs": [],
   "source": [
    "class DataIngestion:\n",
    "    def __init__(self, config:DataIngestionConfig, db_config: DatabaseCredentials):\n",
    "        self.config = config\n",
    "        self.db_config = db_config\n",
    "\n",
    "    def download_data(self) -> str:\n",
    "        try:\n",
    "            dataset_url = self.config.source_URL\n",
    "            download_file = self.config.local_data_file\n",
    "            os.makedirs(self.config.root_dir, exist_ok = True)\n",
    "            logger.info(f\"Downloading Data from {dataset_url} into {download_file}\")\n",
    "\n",
    "            file_id = dataset_url.split(\"/\")[-2]\n",
    "            prefix = 'https://drive.google.com/uc?/export=download&id='\n",
    "            gdown.download(prefix+file_id, download_file)\n",
    "\n",
    "            logger.info(f'Downloaded data from {dataset_url} into file {download_file}')\n",
    "\n",
    "        except Exception as e:\n",
    "            raise e\n",
    "        \n",
    "    def preprocess_data(self, rawdata_filepath) ->str:\n",
    "        #preprocessing of data will complete by this function\n",
    "        #Save the preprocessed data into local database\n",
    "        processed_data_filepath = self.config.processed_data\n",
    "        dataframe = pd.read_csv(rawdata_filepath)\n",
    "        logger.info(\"Dataset Loaded in Dataframe\")\n",
    "        \"\"\"\n",
    "                Do the Preprocessing Steps Here       \n",
    "        \n",
    "        \"\"\"\n",
    "\n",
    "        logger.info(f\"Preprocessing Completed\")\n",
    "        dataframe.to_csv(processed_data_filepath, index=False)\n",
    "        logger.info(f'Processed Data Saved into file {processed_data_filepath}') \n",
    "\n",
    "        connection_string = f'postgresql+psycopg2://{self.db_config.db_user}:{self.db_config.db_password}@{self.db_config.db_host}:{self.db_config.db_port}/{self.db_config.db_name}'\n",
    "        \n",
    "        logger.info(f'connecting to database at {connection_string}')\n",
    "\n",
    "        try:\n",
    "            engine = create_engine(connection_string)\n",
    "        except Exception as e:\n",
    "            raise e\n",
    "        \n",
    "        logger.info(\"connection made to local pgadmin server\")\n",
    "\n",
    "        preprocessed_data = pd.read_csv(processed_data_filepath)\n",
    "        table_name = 'whine_quality'\n",
    "        preprocessed_data.to_sql(table_name, engine, if_exists='replace', index=False)\n",
    "        logger.info(\"Successfully created table into Local Database\")\n",
    "\n",
    "    def transform_data(self) -> str:\n",
    "        rawdata_filepath = self.config.local_data_file\n",
    "        dataframe = pd.read_csv(rawdata_filepath)\n",
    "        if(dataframe):\n",
    "            logger.info(f'preprocessing data ...')\n",
    "            self.preprocess_data(rawdata_filepath)\n",
    "        else:\n",
    "            logger.info(f'No file present in the {rawdata_filepath}')\n",
    "\n",
    "\n",
    "\n",
    "        "
   ]
  },
  {
   "cell_type": "code",
   "execution_count": 7,
   "metadata": {},
   "outputs": [
    {
     "name": "stdout",
     "output_type": "stream",
     "text": [
      "[2024-09-13 15:54:59,982:INFO:common_func:yaml file: ..\\config\\config.yaml loaded successfully]\n",
      "[2024-09-13 15:54:59,985:INFO:common_func:yaml file: ..\\params.yaml loaded successfully]\n"
     ]
    },
    {
     "ename": "ValueError",
     "evalue": "yaml file is empty",
     "output_type": "error",
     "traceback": [
      "\u001b[1;31m---------------------------------------------------------------------------\u001b[0m",
      "\u001b[1;31mBoxValueError\u001b[0m                             Traceback (most recent call last)",
      "File \u001b[1;32md:\\sonu\\folder c\\desktop\\portfolio github projects\\mlops-structure\\src\\regression\\utils\\common_func.py:36\u001b[0m, in \u001b[0;36mread_yaml\u001b[1;34m(path_of_yaml)\u001b[0m\n\u001b[0;32m     35\u001b[0m         logger\u001b[38;5;241m.\u001b[39minfo(\u001b[38;5;124mf\u001b[39m\u001b[38;5;124m\"\u001b[39m\u001b[38;5;124myaml file: \u001b[39m\u001b[38;5;132;01m{\u001b[39;00mpath_of_yaml\u001b[38;5;132;01m}\u001b[39;00m\u001b[38;5;124m loaded successfully\u001b[39m\u001b[38;5;124m\"\u001b[39m)\n\u001b[1;32m---> 36\u001b[0m         \u001b[38;5;28;01mreturn\u001b[39;00m \u001b[43mConfigBox\u001b[49m\u001b[43m(\u001b[49m\u001b[43mcontent\u001b[49m\u001b[43m)\u001b[49m\n\u001b[0;32m     37\u001b[0m \u001b[38;5;28;01mexcept\u001b[39;00m BoxValueError:\n",
      "File \u001b[1;32md:\\SONU\\folder c\\Desktop\\Portfolio Github Projects\\mlops-structure\\.venv\\lib\\site-packages\\box\\box.py:284\u001b[0m, in \u001b[0;36mbox.box.Box.__init__\u001b[1;34m()\u001b[0m\n",
      "\u001b[1;31mBoxValueError\u001b[0m: Cannot extrapolate Box from string",
      "\nDuring handling of the above exception, another exception occurred:\n",
      "\u001b[1;31mValueError\u001b[0m                                Traceback (most recent call last)",
      "Cell \u001b[1;32mIn[7], line 9\u001b[0m\n\u001b[0;32m      7\u001b[0m     data_ingestion_preprocess\u001b[38;5;241m.\u001b[39mtransform_data()\n\u001b[0;32m      8\u001b[0m \u001b[38;5;28;01mexcept\u001b[39;00m \u001b[38;5;167;01mException\u001b[39;00m \u001b[38;5;28;01mas\u001b[39;00m e:\n\u001b[1;32m----> 9\u001b[0m     \u001b[38;5;28;01mraise\u001b[39;00m e\n",
      "Cell \u001b[1;32mIn[7], line 2\u001b[0m\n\u001b[0;32m      1\u001b[0m \u001b[38;5;28;01mtry\u001b[39;00m:\n\u001b[1;32m----> 2\u001b[0m     config_manager \u001b[38;5;241m=\u001b[39m \u001b[43mConfigurationManager\u001b[49m\u001b[43m(\u001b[49m\u001b[43m)\u001b[49m\n\u001b[0;32m      3\u001b[0m     data_ingestion_config \u001b[38;5;241m=\u001b[39m config_manager\u001b[38;5;241m.\u001b[39mget_data_ingestion_config()\n\u001b[0;32m      4\u001b[0m     db_credentials_config \u001b[38;5;241m=\u001b[39m config_manager\u001b[38;5;241m.\u001b[39mget_database_credentials()\n",
      "Cell \u001b[1;32mIn[4], line 9\u001b[0m, in \u001b[0;36mConfigurationManager.__init__\u001b[1;34m(self, config_filepath, param_filepath, secret_filepath)\u001b[0m\n\u001b[0;32m      2\u001b[0m \u001b[38;5;28;01mdef\u001b[39;00m \u001b[38;5;21m__init__\u001b[39m(\n\u001b[0;32m      3\u001b[0m     \u001b[38;5;28mself\u001b[39m,\n\u001b[0;32m      4\u001b[0m     config_filepath \u001b[38;5;241m=\u001b[39m constant\u001b[38;5;241m.\u001b[39mCONFIG_FILE_PATH,\n\u001b[0;32m      5\u001b[0m     param_filepath \u001b[38;5;241m=\u001b[39m constant\u001b[38;5;241m.\u001b[39mPARAMS_FILE_PATH,\n\u001b[0;32m      6\u001b[0m     secret_filepath \u001b[38;5;241m=\u001b[39m constant\u001b[38;5;241m.\u001b[39mSECRET_FILE_PATH):\n\u001b[0;32m      8\u001b[0m     \u001b[38;5;28mself\u001b[39m\u001b[38;5;241m.\u001b[39mconfig \u001b[38;5;241m=\u001b[39m read_yaml(config_filepath)\n\u001b[1;32m----> 9\u001b[0m     \u001b[38;5;28mself\u001b[39m\u001b[38;5;241m.\u001b[39mparams \u001b[38;5;241m=\u001b[39m \u001b[43mread_yaml\u001b[49m\u001b[43m(\u001b[49m\u001b[43mparam_filepath\u001b[49m\u001b[43m)\u001b[49m\n\u001b[0;32m     10\u001b[0m     \u001b[38;5;28mself\u001b[39m\u001b[38;5;241m.\u001b[39msecret \u001b[38;5;241m=\u001b[39m read_yaml(secret_filepath)\n\u001b[0;32m     12\u001b[0m     create_dir([\u001b[38;5;28mself\u001b[39m\u001b[38;5;241m.\u001b[39mconfig\u001b[38;5;241m.\u001b[39mroot])\n",
      "File \u001b[1;32md:\\SONU\\folder c\\Desktop\\Portfolio Github Projects\\mlops-structure\\.venv\\lib\\site-packages\\ensure\\main.py:872\u001b[0m, in \u001b[0;36mWrappedFunctionReturn.__call__\u001b[1;34m(self, *args, **kwargs)\u001b[0m\n\u001b[0;32m    869\u001b[0m         msg \u001b[38;5;241m=\u001b[39m \u001b[38;5;124m\"\u001b[39m\u001b[38;5;124mArgument \u001b[39m\u001b[38;5;132;01m{arg}\u001b[39;00m\u001b[38;5;124m of type \u001b[39m\u001b[38;5;132;01m{valt}\u001b[39;00m\u001b[38;5;124m to \u001b[39m\u001b[38;5;132;01m{f}\u001b[39;00m\u001b[38;5;124m \u001b[39m\u001b[38;5;124m\"\u001b[39m \u001b[38;5;124m\"\u001b[39m\u001b[38;5;124mdoes not match annotation type \u001b[39m\u001b[38;5;132;01m{t}\u001b[39;00m\u001b[38;5;124m\"\u001b[39m\n\u001b[0;32m    870\u001b[0m         \u001b[38;5;28;01mraise\u001b[39;00m EnsureError(msg\u001b[38;5;241m.\u001b[39mformat(arg\u001b[38;5;241m=\u001b[39marg, f\u001b[38;5;241m=\u001b[39m\u001b[38;5;28mself\u001b[39m\u001b[38;5;241m.\u001b[39mf, t\u001b[38;5;241m=\u001b[39mtempl, valt\u001b[38;5;241m=\u001b[39m\u001b[38;5;28mtype\u001b[39m(value)))\n\u001b[1;32m--> 872\u001b[0m return_val \u001b[38;5;241m=\u001b[39m \u001b[38;5;28mself\u001b[39m\u001b[38;5;241m.\u001b[39mf(\u001b[38;5;241m*\u001b[39margs, \u001b[38;5;241m*\u001b[39m\u001b[38;5;241m*\u001b[39mkwargs)\n\u001b[0;32m    873\u001b[0m \u001b[38;5;28;01mif\u001b[39;00m \u001b[38;5;129;01mnot\u001b[39;00m \u001b[38;5;28misinstance\u001b[39m(return_val, \u001b[38;5;28mself\u001b[39m\u001b[38;5;241m.\u001b[39mreturn_templ):\n\u001b[0;32m    874\u001b[0m     msg \u001b[38;5;241m=\u001b[39m \u001b[38;5;124m\"\u001b[39m\u001b[38;5;124mReturn value of \u001b[39m\u001b[38;5;132;01m{f}\u001b[39;00m\u001b[38;5;124m of type \u001b[39m\u001b[38;5;132;01m{valt}\u001b[39;00m\u001b[38;5;124m \u001b[39m\u001b[38;5;124m\"\u001b[39m \u001b[38;5;124m\"\u001b[39m\u001b[38;5;124mdoes not match annotation type \u001b[39m\u001b[38;5;132;01m{t}\u001b[39;00m\u001b[38;5;124m\"\u001b[39m\n",
      "File \u001b[1;32md:\\sonu\\folder c\\desktop\\portfolio github projects\\mlops-structure\\src\\regression\\utils\\common_func.py:38\u001b[0m, in \u001b[0;36mread_yaml\u001b[1;34m(path_of_yaml)\u001b[0m\n\u001b[0;32m     36\u001b[0m         \u001b[38;5;28;01mreturn\u001b[39;00m ConfigBox(content)\n\u001b[0;32m     37\u001b[0m \u001b[38;5;28;01mexcept\u001b[39;00m BoxValueError:\n\u001b[1;32m---> 38\u001b[0m     \u001b[38;5;28;01mraise\u001b[39;00m \u001b[38;5;167;01mValueError\u001b[39;00m(\u001b[38;5;124m\"\u001b[39m\u001b[38;5;124myaml file is empty\u001b[39m\u001b[38;5;124m\"\u001b[39m)\n\u001b[0;32m     39\u001b[0m \u001b[38;5;28;01mexcept\u001b[39;00m \u001b[38;5;167;01mException\u001b[39;00m \u001b[38;5;28;01mas\u001b[39;00m e:\n\u001b[0;32m     40\u001b[0m     \u001b[38;5;28;01mraise\u001b[39;00m e\n",
      "\u001b[1;31mValueError\u001b[0m: yaml file is empty"
     ]
    }
   ],
   "source": [
    "try:\n",
    "    config_manager = ConfigurationManager()\n",
    "    data_ingestion_config = config_manager.get_data_ingestion_config()\n",
    "    db_credentials_config = config_manager.get_database_credentials()\n",
    "    data_ingestion_preprocess = DataIngestion(data_ingestion_config, db_credentials_config)\n",
    "    data_ingestion_preprocess.download_data()\n",
    "    data_ingestion_preprocess.transform_data()\n",
    "except Exception as e:\n",
    "    raise e"
   ]
  },
  {
   "cell_type": "code",
   "execution_count": null,
   "metadata": {},
   "outputs": [],
   "source": []
  }
 ],
 "metadata": {
  "kernelspec": {
   "display_name": ".venv",
   "language": "python",
   "name": "python3"
  },
  "language_info": {
   "codemirror_mode": {
    "name": "ipython",
    "version": 3
   },
   "file_extension": ".py",
   "mimetype": "text/x-python",
   "name": "python",
   "nbconvert_exporter": "python",
   "pygments_lexer": "ipython3",
   "version": "3.9.13"
  }
 },
 "nbformat": 4,
 "nbformat_minor": 2
}
