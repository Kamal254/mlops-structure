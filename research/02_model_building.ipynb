{
 "cells": [
  {
   "cell_type": "code",
   "execution_count": 1,
   "metadata": {},
   "outputs": [],
   "source": [
    "from dataclasses import dataclass\n",
    "from pathlib import Path"
   ]
  },
  {
   "cell_type": "code",
   "execution_count": 2,
   "metadata": {},
   "outputs": [],
   "source": [
    "@dataclass(frozen=True)\n",
    "class ModelTrainingConfig:\n",
    "    root_dir : Path\n",
    "    model_file_path : Path\n",
    "    data_path : Path\n",
    "    criterion : str\n",
    "    max_depth : int\n",
    "    test_data_filepath : Path\n",
    "    train_data_filepath : Path\n"
   ]
  },
  {
   "cell_type": "code",
   "execution_count": 3,
   "metadata": {},
   "outputs": [],
   "source": [
    "import pandas as pd\n",
    "import numpy as np\n",
    "\n",
    "import sklearn\n",
    "from sklearn.model_selection import train_test_split\n",
    "from sklearn.tree import DecisionTreeClassifier\n",
    "from sklearn.metrics import accuracy_score"
   ]
  },
  {
   "cell_type": "code",
   "execution_count": 4,
   "metadata": {},
   "outputs": [],
   "source": [
    "from regression.constants import constant\n",
    "from regression.utils.common_func import read_yaml, create_dir\n",
    "from regression import logger\n",
    "import joblib"
   ]
  },
  {
   "cell_type": "code",
   "execution_count": 5,
   "metadata": {},
   "outputs": [],
   "source": [
    "class ModelConfigurationManager:\n",
    "    def __init__(\n",
    "            self,\n",
    "            param_filepath = constant.PARAMS_FILE_PATH,\n",
    "            config_filepath = constant.CONFIG_FILE_PATH\n",
    "            ):\n",
    "        self.params = read_yaml(param_filepath)\n",
    "        self.config = read_yaml(config_filepath)\n",
    "\n",
    "    def get_model_config(self) -> ModelTrainingConfig:\n",
    "        prepare_model_config = self.config.prepare_model\n",
    "        data_config = self.config.data_paths\n",
    "        data_split_config = self.config.data_split\n",
    "        create_dir([prepare_model_config.root_dir])\n",
    "\n",
    "        model_config = ModelTrainingConfig(\n",
    "            root_dir = prepare_model_config.root_dir,\n",
    "            model_file_path = prepare_model_config.model_file_path,\n",
    "            data_path = data_config.processed_data,\n",
    "            criterion = self.params.criterion,\n",
    "            max_depth = self.params.max_depth,\n",
    "            test_data_filepath = data_split_config.test_data_filepath,\n",
    "            train_data_filepath = data_split_config.train_data_filepath\n",
    "        )\n",
    "\n",
    "        return model_config"
   ]
  },
  {
   "cell_type": "code",
   "execution_count": 6,
   "metadata": {},
   "outputs": [],
   "source": [
    "class ModelTraining:\n",
    "    def __init__(self, config:ModelTrainingConfig):\n",
    "        self.config = config\n",
    "        \n",
    "    def split_data(self) -> str:\n",
    "        try:\n",
    "            logger.info(f'Loading Dataset from {self.config.data_path} into Datafram')\n",
    "            df = pd.read_csv(self.config.data_path)\n",
    "            logger.info(\"Splitting the dataset into train and test datasets\")\n",
    "            train_dataset = df[:1450]\n",
    "            test_dataset = df[1450:]\n",
    "            logger.info(\"Saving train and test data into artifact folder\")\n",
    "            train_dataset.to_csv(self.config.train_data_filepath)\n",
    "            test_dataset.to_csv(self.config.test_data_filepath)\n",
    "        except Exception as e:\n",
    "            raise e\n",
    "    \n",
    "\n",
    "    def train_model(self) ->str:\n",
    "        try:\n",
    "            logger.info(\"Loading Training Data into dataframe\")\n",
    "            df = pd.read_csv(self.config.test_data_filepath)\n",
    "            y = df['quality']\n",
    "            x = df.drop('quality', axis=1)\n",
    "            logger.info(\"splitting the data into X and y\")\n",
    "            logger.info(\"defining the model\")\n",
    "\n",
    "            classifier = DecisionTreeClassifier(criterion = self.config.criterion, max_depth=self.config.max_depth)\n",
    "            classifier.fit(x, y)\n",
    "\n",
    "            logger.info(\"Model is successfully trained\")\n",
    "\n",
    "            joblib.dump(classifier, self.config.model_file_path)\n",
    "\n",
    "            logger.info(\"Model is successfully saved at {self.config.model_file_path}\")\n",
    "        \n",
    "        except Exception as e:\n",
    "            logger.error(f\"Error Occurred during model training {e}\")\n",
    "            raise e\n",
    "    \n",
    "        "
   ]
  },
  {
   "cell_type": "code",
   "execution_count": 7,
   "metadata": {},
   "outputs": [
    {
     "name": "stdout",
     "output_type": "stream",
     "text": [
      "[2024-09-13 22:56:30,028:INFO:common_func:yaml file: ..\\params.yaml loaded successfully]\n",
      "[2024-09-13 22:56:30,034:INFO:common_func:yaml file: ..\\config\\config.yaml loaded successfully]\n",
      "[2024-09-13 22:56:30,034:INFO:common_func:Created directory at : ../artifacts/model]\n",
      "[2024-09-13 22:56:30,034:INFO:2770646490:Loading Dataset from ../artifacts/datasets/processed_redwineq_data.csv into Datafram]\n",
      "[2024-09-13 22:56:30,049:INFO:2770646490:Splitting the dataset into train and test datasets]\n",
      "[2024-09-13 22:56:30,049:INFO:2770646490:Saving train and test data into artifact folder]\n",
      "[2024-09-13 22:56:30,068:INFO:2770646490:Loading Training Data into dataframe]\n",
      "[2024-09-13 22:56:30,080:INFO:2770646490:splitting the data into X and y]\n",
      "[2024-09-13 22:56:30,081:INFO:2770646490:defining the model]\n",
      "[2024-09-13 22:56:30,195:INFO:2770646490:Model is successfully trained]\n",
      "[2024-09-13 22:56:30,209:INFO:2770646490:Model is successfully saved at {self.config.model_file_path}]\n"
     ]
    }
   ],
   "source": [
    "try:\n",
    "    modelconfigmanager = ModelConfigurationManager()\n",
    "    model_config = modelconfigmanager.get_model_config()\n",
    "    model_training = ModelTraining(model_config)\n",
    "    model_training.split_data()\n",
    "    model_training.train_model()\n",
    "except Exception as e:\n",
    "    raise e"
   ]
  },
  {
   "cell_type": "code",
   "execution_count": null,
   "metadata": {},
   "outputs": [],
   "source": []
  }
 ],
 "metadata": {
  "kernelspec": {
   "display_name": ".venv",
   "language": "python",
   "name": "python3"
  },
  "language_info": {
   "codemirror_mode": {
    "name": "ipython",
    "version": 3
   },
   "file_extension": ".py",
   "mimetype": "text/x-python",
   "name": "python",
   "nbconvert_exporter": "python",
   "pygments_lexer": "ipython3",
   "version": "3.9.13"
  }
 },
 "nbformat": 4,
 "nbformat_minor": 2
}
