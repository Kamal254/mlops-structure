{
 "cells": [
  {
   "cell_type": "code",
   "execution_count": 7,
   "metadata": {},
   "outputs": [],
   "source": [
    "from dataclasses import dataclass\n",
    "from pathlib import Path"
   ]
  },
  {
   "cell_type": "code",
   "execution_count": 8,
   "metadata": {},
   "outputs": [],
   "source": [
    "@dataclass(frozen=True)\n",
    "class ModelEvaluationConfig:\n",
    "    model_file_path : Path\n",
    "    test_data_filepath : Path\n",
    "    criterion : str\n",
    "    max_depth : int"
   ]
  },
  {
   "cell_type": "code",
   "execution_count": 9,
   "metadata": {},
   "outputs": [],
   "source": [
    "from regression.constants import constant\n",
    "from regression.utils.common_func import read_yaml, create_dir, save_json\n",
    "from regression import logger\n",
    "import joblib\n",
    "import pandas as pd\n",
    "import numpy as np\n",
    "from sklearn.metrics import accuracy_score, mean_squared_error, mean_absolute_error, r2_score\n",
    "\n",
    "import mlflow\n",
    "import mlflow.sklearn\n",
    "from urllib.parse import urlparse\n",
    "from mlflow.models import infer_signature"
   ]
  },
  {
   "cell_type": "code",
   "execution_count": 10,
   "metadata": {},
   "outputs": [],
   "source": [
    "class EvaluationConfigurationManager:\n",
    "    def __init__(self,\n",
    "                 config_filepath = constant.CONFIG_FILE_PATH,\n",
    "                 param_filepath = constant.PARAMS_FILE_PATH):\n",
    "        \n",
    "        self.config = read_yaml(config_filepath)\n",
    "        self.params = read_yaml(param_filepath)\n",
    "\n",
    "    def get_evaluation_config(self) -> ModelEvaluationConfig:\n",
    "        eval_config = ModelEvaluationConfig(\n",
    "            model_file_path = self.config.prepare_model.model_file_path,\n",
    "            test_data_filepath=self.config.data_split.test_data_filepath,\n",
    "            criterion=self.params.criterion,\n",
    "            max_depth=self.params.max_depth)\n",
    "        return eval_config\n"
   ]
  },
  {
   "cell_type": "code",
   "execution_count": 11,
   "metadata": {},
   "outputs": [],
   "source": [
    "class Evaluation:\n",
    "    def __init__(self, config : ModelEvaluationConfig):\n",
    "        self.config = config\n",
    "\n",
    "    def load_model(self) ->str:\n",
    "        try:\n",
    "            logger.info(f'loading the model from {self.config.model_file_path}')\n",
    "            self.model = joblib.load(self.config.model_file_path)\n",
    "            logger.info(\"Model loaded Successfully\")\n",
    "\n",
    "        except Exception as e:\n",
    "            logger.error(f\"Error occurred while loading the model: {e}\")\n",
    "            raise e\n",
    "        \n",
    "    def evaluation(self) ->str:\n",
    "        logger.info(f'loading test data into dataframe')\n",
    "        test_df = pd.read_csv(self.config.test_data_filepath)\n",
    "        y_test = test_df['quality']\n",
    "        x_test = test_df.drop('quality', axis=1)\n",
    "        y_pred = self.model.predict(x_test)\n",
    "        self.score = accuracy_score(y_test, y_pred)\n",
    "        self.rmse = np.sqrt(mean_squared_error(y_test, y_pred))\n",
    "        self.mae = mean_absolute_error(y_test, y_pred)\n",
    "        self.r2 = r2_score(y_test, y_pred)\n",
    "\n",
    "    def log_into_mlflow(self):\n",
    "        tracking_url_type_store = urlparse(mlflow.get_tracking_uri()).scheme\n",
    "        with mlflow.start_run():\n",
    "            test_df = pd.read_csv(self.config.test_data_filepath)\n",
    "            y_test = test_df['quality']\n",
    "            x_test = test_df.drop('quality', axis=1)\n",
    "            # y_pred = self.model.predict(x_test)\n",
    "            mlflow.log_param(\"criterion\", self.config.criterion)\n",
    "            mlflow.log_param(\"max_depth\", self.config.max_depth)\n",
    "\n",
    "            mlflow.log_metric(\"RMSE\", self.rmse)\n",
    "            mlflow.log_metric(\"MAE\", self.mae)\n",
    "            mlflow.log_metric(\"R2\", self.r2)\n",
    "\n",
    "            signature = infer_signature(y_test, self.model.predict(x_test))\n",
    "\n",
    "            if tracking_url_type_store != \"file\":\n",
    "\n",
    "                # Register the model\n",
    "                # There are other ways to use the Model Registry, which depends on the use case,\n",
    "                # please refer to the doc for more information:\n",
    "                # https://mlflow.org/docs/latest/model-registry.html#api-workflow\n",
    "                mlflow.sklearn.log_model(self.model, \"model\", registered_model_name=\"DescisionClassifier\")\n",
    "            else:\n",
    "                mlflow.sklearn.log_model(self.model, \"model\", signature=signature)\n",
    "\n",
    "\n"
   ]
  },
  {
   "cell_type": "code",
   "execution_count": 12,
   "metadata": {},
   "outputs": [
    {
     "name": "stdout",
     "output_type": "stream",
     "text": [
      "[2024-09-14 07:20:35,824:INFO:common_func:yaml file: ..\\config\\config.yaml loaded successfully]\n",
      "[2024-09-14 07:20:35,826:INFO:common_func:yaml file: ..\\params.yaml loaded successfully]\n",
      "[2024-09-14 07:20:35,826:INFO:1665163982:loading the model from ../artifacts/model/trained_model.h5]\n",
      "[2024-09-14 07:20:35,826:INFO:1665163982:Model loaded Successfully]\n",
      "[2024-09-14 07:20:35,830:INFO:1665163982:loading test data into dataframe]\n"
     ]
    },
    {
     "name": "stderr",
     "output_type": "stream",
     "text": [
      "d:\\SONU\\folder c\\Desktop\\Portfolio Github Projects\\mlops-structure\\.venv\\lib\\site-packages\\mlflow\\types\\utils.py:407: UserWarning: Hint: Inferred schema contains integer column(s). Integer columns in Python cannot represent missing values. If your input data contains missing values at inference time, it will be encoded as floats and will cause a schema enforcement error. The best way to avoid this problem is to infer the model schema based on a realistic data sample (training dataset) that includes missing values. Alternatively, you can declare integer columns as doubles (float64) whenever these columns may have missing values. See `Handling Integers With Missing Values <https://www.mlflow.org/docs/latest/models.html#handling-integers-with-missing-values>`_ for more details.\n",
      "  warnings.warn(\n"
     ]
    }
   ],
   "source": [
    "try:\n",
    "    config_manager = EvaluationConfigurationManager()\n",
    "    eval_config = config_manager.get_evaluation_config()\n",
    "    evaluation = Evaluation(eval_config)\n",
    "    evaluation.load_model()\n",
    "    evaluation.evaluation()\n",
    "    evaluation.log_into_mlflow()\n",
    "except Exception as e:\n",
    "    raise e\n"
   ]
  },
  {
   "cell_type": "code",
   "execution_count": null,
   "metadata": {},
   "outputs": [],
   "source": []
  }
 ],
 "metadata": {
  "kernelspec": {
   "display_name": ".venv",
   "language": "python",
   "name": "python3"
  },
  "language_info": {
   "codemirror_mode": {
    "name": "ipython",
    "version": 3
   },
   "file_extension": ".py",
   "mimetype": "text/x-python",
   "name": "python",
   "nbconvert_exporter": "python",
   "pygments_lexer": "ipython3",
   "version": "3.9.13"
  }
 },
 "nbformat": 4,
 "nbformat_minor": 2
}
