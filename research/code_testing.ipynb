{
 "cells": [
  {
   "cell_type": "code",
   "execution_count": 1,
   "metadata": {},
   "outputs": [],
   "source": [
    "# In this notebook will test the code then use the code in src/regression folder."
   ]
  },
  {
   "cell_type": "markdown",
   "metadata": {},
   "source": [
    "### Download the data from the Google drive"
   ]
  },
  {
   "cell_type": "code",
   "execution_count": 3,
   "metadata": {},
   "outputs": [],
   "source": [
    "import pandas as pd\n",
    "import numpy as np \n",
    "import gdown"
   ]
  },
  {
   "cell_type": "code",
   "execution_count": 4,
   "metadata": {},
   "outputs": [
    {
     "name": "stdout",
     "output_type": "stream",
     "text": [
      "1Bxj1dVwh6JoEiUdpP0riS5BfrPh-Llbt\n"
     ]
    }
   ],
   "source": [
    "url = \"https://drive.google.com/file/d/1Bxj1dVwh6JoEiUdpP0riS5BfrPh-Llbt/view?usp=sharing\"\n",
    "file_id = url.split(\"/\")[-2]\n",
    "print(file_id)"
   ]
  },
  {
   "cell_type": "code",
   "execution_count": 6,
   "metadata": {},
   "outputs": [
    {
     "name": "stderr",
     "output_type": "stream",
     "text": [
      "Downloading...\n",
      "From: https://drive.google.com/uc?/export=download&id=1Bxj1dVwh6JoEiUdpP0riS5BfrPh-Llbt\n",
      "To: d:\\SONU\\folder c\\Desktop\\Portfolio Github Projects\\mlops-structure\\datasets\\winequality-red.csv\n",
      "100%|██████████| 101k/101k [00:00<00:00, 603kB/s]\n"
     ]
    },
    {
     "data": {
      "text/plain": [
       "'../datasets/winequality-red.csv'"
      ]
     },
     "execution_count": 6,
     "metadata": {},
     "output_type": "execute_result"
    }
   ],
   "source": [
    "prefix = 'https://drive.google.com/uc?/export=download&id='\n",
    "gdown.download(prefix+file_id, '../datasets/winequality-red.csv')"
   ]
  },
  {
   "cell_type": "code",
   "execution_count": null,
   "metadata": {},
   "outputs": [],
   "source": [
    "# Now let's do the data analysis and save the data into the postgreSQL\n",
    "# Database Connection Params\n",
    "from sqlalchemy import create_engine\n",
    "\n",
    "db_user = 'kskathe'\n",
    "db_password = 'ksmeena'\n",
    "db_host = 'localhost'\n",
    "db_port = '5432'\n",
    "db_name = 'redwhinedb'\n",
    "\n",
    "connection_string = f'postgresql+psycopg2://{db_user}:{db_password}@{db_host}:{db_port}/{db_name}'\n",
    "\n",
    "engine = create_engine(connection_string)"
   ]
  },
  {
   "cell_type": "code",
   "execution_count": null,
   "metadata": {},
   "outputs": [],
   "source": [
    "import pandas as pd\n",
    "\n",
    "preprocessed_data = pd.read_csv('../datasets/winequality-red.csv')\n",
    "\n",
    "table_name = 'whinequality'\n",
    "\n",
    "preprocessed_data.to_sql(table_name, engine, if_exists = 'replace', index=False)\n",
    "print(\"Data has been written to postgreSQL\")"
   ]
  },
  {
   "cell_type": "code",
   "execution_count": null,
   "metadata": {},
   "outputs": [],
   "source": [
    "query = f\"SELECT COUNT(quality) FROM {table_name} WHERE quality < 5\"\n",
    "data_from_db = pd.read_sql(query, engine)\n",
    "print(data_from_db)"
   ]
  },
  {
   "cell_type": "code",
   "execution_count": null,
   "metadata": {},
   "outputs": [],
   "source": []
  },
  {
   "cell_type": "code",
   "execution_count": null,
   "metadata": {},
   "outputs": [],
   "source": []
  }
 ],
 "metadata": {
  "kernelspec": {
   "display_name": ".venv",
   "language": "python",
   "name": "python3"
  },
  "language_info": {
   "codemirror_mode": {
    "name": "ipython",
    "version": 3
   },
   "file_extension": ".py",
   "mimetype": "text/x-python",
   "name": "python",
   "nbconvert_exporter": "python",
   "pygments_lexer": "ipython3",
   "version": "3.9.13"
  }
 },
 "nbformat": 4,
 "nbformat_minor": 2
}
